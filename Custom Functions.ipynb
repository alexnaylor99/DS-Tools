{
 "cells": [
  {
   "cell_type": "markdown",
   "metadata": {},
   "source": [
    "# Data Science Tools"
   ]
  },
  {
   "cell_type": "markdown",
   "metadata": {},
   "source": [
    "## Custom Functions"
   ]
  },
  {
   "cell_type": "code",
   "execution_count": null,
   "metadata": {},
   "outputs": [],
   "source": [
    "def find_column_types(df):\n",
    "    \"\"\"\n",
    "    Function finds column datatypes\n",
    "    \n",
    "    Parameters\n",
    "    -----\n",
    "    df : Pandas DataFrame\n",
    "        DataFrame containing data\n",
    "        \n",
    "    Returns\n",
    "    -----\n",
    "    categorical_vars : list\n",
    "        List of categorical variables\n",
    "    boolean_vars : list\n",
    "        List of boolean variables\n",
    "    numerical_vars : list \n",
    "        List of numeric variables\n",
    "    \"\"\"\n",
    "    \n",
    "    all_cols = list(df.columns)\n",
    "    numerical_cols_temp = df._get_numeric_data().columns\n",
    "    categorical_cols = list(set(all_cols) - set(numerical_cols_temp))\n",
    "    bool_cols = [col for col in all_cols if np.isin(df[col].dropna().unique(), [0, 1, 0.0, 1.0]).all()]\n",
    "    numerical_cols = list(set(numerical_cols_temp) - set(bool_cols))\n",
    "    \n",
    "    return categorical_cols, bool_cols, numerical_cols"
   ]
  }
 ],
 "metadata": {
  "kernelspec": {
   "display_name": "Python 3",
   "language": "python",
   "name": "python3"
  },
  "language_info": {
   "codemirror_mode": {
    "name": "ipython",
    "version": 3
   },
   "file_extension": ".py",
   "mimetype": "text/x-python",
   "name": "python",
   "nbconvert_exporter": "python",
   "pygments_lexer": "ipython3",
   "version": "3.7.4"
  }
 },
 "nbformat": 4,
 "nbformat_minor": 2
}
